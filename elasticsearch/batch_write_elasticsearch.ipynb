{
 "cells": [
  {
   "cell_type": "markdown",
   "metadata": {},
   "source": [
    "## Elasticsearch batch write test\n",
    "### compiled by Ryan"
   ]
  },
  {
   "cell_type": "markdown",
   "metadata": {},
   "source": [
    "Tutorial: https://elasticsearch-py.readthedocs.io/en/master/"
   ]
  },
  {
   "cell_type": "markdown",
   "metadata": {},
   "source": [
    "## Tutorial Code"
   ]
  },
  {
   "cell_type": "code",
   "execution_count": 23,
   "metadata": {},
   "outputs": [],
   "source": [
    "from datetime import datetime\n",
    "from elasticsearch import Elasticsearch\n",
    "\n",
    "es = Elasticsearch()\n",
    "\n",
    "'''\n",
    "put\n",
    "'''\n",
    "\n",
    "doc = {\n",
    "    'author': 'ryan',\n",
    "    'text': 'this guy is very handsome',\n",
    "    'timestamp': datetime.now(),\n",
    "}\n",
    "\n",
    "res_in  = es.index(index=\"job_id\", doc_type='text', id=1, body=doc)"
   ]
  },
  {
   "cell_type": "code",
   "execution_count": 24,
   "metadata": {},
   "outputs": [
    {
     "name": "stdout",
     "output_type": "stream",
     "text": [
      "{'_index': 'job_id', '_type': 'text', '_id': '1', '_version': 3, 'found': True, '_source': {'author': 'ryan', 'text': 'this guy is very handsome', 'timestamp': '2018-03-13T22:43:57.032857'}}\n"
     ]
    }
   ],
   "source": [
    "res_out = es.get(index=\"job_id\", doc_type='text', id=1)\n",
    "\n",
    "print(res_out)"
   ]
  },
  {
   "cell_type": "markdown",
   "metadata": {},
   "source": [
    "## Upscale Code - Batch w/o"
   ]
  },
  {
   "cell_type": "code",
   "execution_count": 28,
   "metadata": {},
   "outputs": [],
   "source": [
    "es = Elasticsearch()\n",
    "'''\n",
    "put\n",
    "'''\n",
    "\n",
    "def put_element(title, company, description, job_id):\n",
    "    \n",
    "    doc = {'title': title,  \n",
    "           'company': company,\n",
    "           'description': description}\n",
    "    \n",
    "    res_in  = es.index(body=doc,\n",
    "                       index=\"job\", \n",
    "                       doc_type='text',\n",
    "                       id= job_id)\n",
    "    \n",
    "    res_out = es.get(index=\"job\",\n",
    "                     doc_type='text',\n",
    "                     id= job_id)\n",
    "    \n",
    "    #print('{} has been written into Elasticsearch'.format(res_out))"
   ]
  },
  {
   "cell_type": "code",
   "execution_count": 29,
   "metadata": {},
   "outputs": [],
   "source": [
    "put_element('data science', 'rbc', 'machine learning devops', 2001)"
   ]
  },
  {
   "cell_type": "code",
   "execution_count": 30,
   "metadata": {},
   "outputs": [],
   "source": [
    "import pandas as pd\n",
    "df_jobs = pd.read_csv('data/ds.csv')\n",
    "df_jobs.head(3)\n",
    "job_title = df_jobs.jobtitle\n",
    "job_company = df_jobs.company\n",
    "job_description = df_jobs.description"
   ]
  },
  {
   "cell_type": "code",
   "execution_count": 31,
   "metadata": {},
   "outputs": [],
   "source": [
    "for index, row in df_jobs.iterrows():\n",
    "    put_element(row['jobtitle'], row['company'], row['description'], row['Unnamed: 0'])"
   ]
  },
  {
   "cell_type": "code",
   "execution_count": 32,
   "metadata": {},
   "outputs": [
    {
     "name": "stdout",
     "output_type": "stream",
     "text": [
      "{'_index': 'job', '_type': 'text', '_id': '1', '_version': 2, 'found': True, '_source': {'title': 'Director of Artificial Intelligence and Machine Learning - Toronto Canada', 'company': 'LG Electronics', 'description': 'At LG we make products and services that make lives better  easier and happier through increased functionality and fun  Put simply  we offer the latest innovations to make “Life Good” – from home appliances  consumer electronics  vehicle components and mobile communications to business innovations in digital signage  air conditioning  solar and LED lighting  As a global leader  we strive for greatness in product leadership  market leadership and people leadership to realize our growth strategies  Talk about a mantra  Life’s Good with LG  Director of Artificial Intelligence and Machine Learning   Toronto Canada LG is looking to push boundaries of AI to build innovative disruptive product and services solutions to realize LG’s global vision for a connected world  As a part of this initiative  LG has set up an Advanced AI organization in North America centered in Silicon Valley  We are looking to tap into the world class talent in Canada by establishing a first R&D  lab in Toronto  As part of LG’s North America AI initiative  we are looking for passionate and talented AI   Machine Learning scientists and engineers to work closely with the global AI labs on novel and disruptive solutions that will shape out LG’s global vision for Connected Home  Connected Cars  IoT and Robotics  We are looking for a stellar candidate to lead our Toronto AI Lab  This role reports to the VP of AI and Machine Learning  The ideal candidate will have great technological vision  product ideation capabilities  solid research credentials  experience in leading world class R&D  team of scientists and engineers as well as an understanding of broader AI landscape  The candidate will work with multi disciplinary team in Silicon Valley  including data scientists  product managers and software developers  to design and launch AI products and solutions that help predict  personalize and transform lifestyles of LG’s global footprint of devices and users  Director of Toronto AI Lab will lead scientists and engineers to address advanced research topic and challenging business problem in the machine learning  natural language understanding  machine perception and cyber physical systems  The team will also be publishing research results at top tier venues in the field  develop an academic collaboration ecosystem with local academia as well as build differentiating IP  Additional Duties and Responsibilities  Set the vision for the function and the roadmap to execute effectively  Align with AI and senior leadership  Build and manage the Toronto AI Lab Working with the leadership  identify and prioritize R&D  focus areas Identify Ideate  develop and build prototypical capabilities to demonstrate research and innovation results Responsible for project ownership around projects across various areas of machine learning and AI  POCs should result in rich learning experience for the organization leading to scalable business products or offerings  Lead research on pushing state of the art in the field to address open problems  and or create disruptive technologies to strengthen company portfolio  or address long term strategic needs Work with other groups within LG (around AI) while maintaining clear differentiation and value Familiarity with building systems (infrastructure  software stacks and architecture  hardware deployment of AI capabilities  application development) is critical Job Requirements PhD in Computer Science  Electrical Engineering  or a related quantitative discipline focused on Machine Learning AI with at least 8 years of experience Experience in leading research and software teams Strong background in algorithms  probability theory  abstract analysis  optimization  linear systems  machine learning  and deep learning algorithms  Strong publication record in the broad area of machine learning demonstrating original thinking  problem solving and critical performance validation Established track record of delivering projects around Deep Learning  Machine Learning  Natural Language Processing  Computer Vision  Recommendation Systems  Pattern Recognition  Large Scale Data Mining or Artificial Intelligence  Experience with deep learning application in one or more of the following areas  speech  vision  audio  NLP  semantic analysis  multi modal data Strong Experience in one or more of the open source deep learning frameworks including TensorFlow  MXNet  Theano  or Caffe  Solid understanding of underlying algorithmic and architectural concepts to enhance the inner workings of an AI framework of choice Hands on coding experience with two or more of C C    Python  Scala  Lua  R  Matlab  java Strong experience with systems for large scale data analysis including Spark  Hadoop  Kafka and their subcomponents (Yarn  Zookeeper etc ) Strong project management experience A sense of ambition and passion to change the world using AI and Deep Learning LG Electronics  USA Inc   LG Mobilecomm USA  Inc   LG Mobile Research USA LLC  and Zenith Electronics LLC provides equal employment opportunity to all individuals regardless of their race  color  creed  religion  gender  age  sexual orientation  national origin  disability  veteran status  or any other characteristic protected by state  federal  or local law  Further  the Company takes affirmative action to ensure that applicants are employed and employees are treated during employment without regard to any of these characteristics   IND123 \\u200b  LI SB1'}}\n"
     ]
    }
   ],
   "source": [
    "res_out = es.get(index=\"job\", doc_type='text', id=1)\n",
    "print(res_out)"
   ]
  },
  {
   "cell_type": "markdown",
   "metadata": {},
   "source": [
    "http://localhost:9200/job/text/3"
   ]
  },
  {
   "cell_type": "code",
   "execution_count": 38,
   "metadata": {},
   "outputs": [
    {
     "data": {
      "text/plain": [
       "{'_shards': {'failed': 0, 'successful': 5, 'total': 10}}"
      ]
     },
     "execution_count": 38,
     "metadata": {},
     "output_type": "execute_result"
    }
   ],
   "source": [
    "es.indices.refresh(index=\"job_id\")\n",
    "\n",
    "res = es.search(index=\"job_id\", body={\"query\": {\"match_all\": {}}})\n",
    "\n",
    "print(\"Got %d Hits:\" % res['hits']['total'])\n",
    "\n",
    "for hit in res['hits']['hits']:\n",
    "    print(hit)"
   ]
  }
 ],
 "metadata": {
  "kernelspec": {
   "display_name": "Python 3",
   "language": "python",
   "name": "python3"
  },
  "language_info": {
   "codemirror_mode": {
    "name": "ipython",
    "version": 3
   },
   "file_extension": ".py",
   "mimetype": "text/x-python",
   "name": "python",
   "nbconvert_exporter": "python",
   "pygments_lexer": "ipython3",
   "version": "3.6.4"
  }
 },
 "nbformat": 4,
 "nbformat_minor": 2
}
