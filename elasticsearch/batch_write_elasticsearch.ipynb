{
 "cells": [
  {
   "cell_type": "markdown",
   "metadata": {},
   "source": [
    "## Elasticsearch batch write test"
   ]
  },
  {
   "cell_type": "raw",
   "metadata": {},
   "source": [
    "POST http://path.to.your.cluster/myIndex/person/_bulk\n",
    "{ \"index\":{} }\n",
    "{ \"name\":\"john doe\",\"age\":25 }\n",
    "{ \"index\":{} }\n",
    "{ \"name\":\"mary smith\",\"age\":32 }"
   ]
  },
  {
   "cell_type": "markdown",
   "metadata": {},
   "source": [
    "Tutorial: https://elasticsearch-py.readthedocs.io/en/master/"
   ]
  },
  {
   "cell_type": "code",
   "execution_count": 8,
   "metadata": {},
   "outputs": [
    {
     "name": "stdout",
     "output_type": "stream",
     "text": [
      "{'_index': 'test-index', '_type': 'tweet', '_id': '1', '_version': 7, 'found': True, '_source': {'author': 'ryan', 'text': 'Elasticsearch: rta.', 'timestamp': '2018-03-01T21:29:01.650647'}}\n"
     ]
    }
   ],
   "source": [
    "from datetime import datetime\n",
    "from elasticsearch import Elasticsearch\n",
    "\n",
    "es = Elasticsearch()\n",
    "\n",
    "doc = {\n",
    "    'author': 'ryan',\n",
    "    'text': 'Elasticsearch: rta.',\n",
    "    'timestamp': datetime.now(),\n",
    "}\n",
    "\n",
    "res_in = es.index(index=\"test-index\", doc_type='tweet', id=1, body=doc)\n",
    "\n",
    "\n",
    "res_out = es.get(index=\"test-index\", doc_type='tweet', id=1)\n",
    "\n",
    "print(res_out)\n",
    "\n",
    "# es.indices.refresh(index=\"test-index\")\n",
    "\n",
    "# res = es.search(index=\"test-index\", body={\"query\": {\"match_all\": {}}})\n",
    "\n",
    "# print(\"Got %d Hits:\" % res['hits']['total'])\n",
    "\n",
    "# for hit in res['hits']['hits']:\n",
    "#     print(\"%(timestamp)s %(author)s: %(text)s\" % hit[\"_source\"])"
   ]
  },
  {
   "cell_type": "code",
   "execution_count": null,
   "metadata": {},
   "outputs": [],
   "source": []
  }
 ],
 "metadata": {
  "kernelspec": {
   "display_name": "Python 3",
   "language": "python",
   "name": "python3"
  },
  "language_info": {
   "codemirror_mode": {
    "name": "ipython",
    "version": 3
   },
   "file_extension": ".py",
   "mimetype": "text/x-python",
   "name": "python",
   "nbconvert_exporter": "python",
   "pygments_lexer": "ipython3",
   "version": "3.6.4"
  }
 },
 "nbformat": 4,
 "nbformat_minor": 2
}
