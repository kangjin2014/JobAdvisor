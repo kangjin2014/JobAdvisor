{
 "cells": [
  {
   "cell_type": "markdown",
   "metadata": {},
   "source": [
    "## Elasticsearch batch write test"
   ]
  },
  {
   "cell_type": "raw",
   "metadata": {},
   "source": [
    "POST http://path.to.your.cluster/myIndex/person/_bulk\n",
    "{ \"index\":{} }\n",
    "{ \"name\":\"john doe\",\"age\":25 }\n",
    "{ \"index\":{} }\n",
    "{ \"name\":\"mary smith\",\"age\":32 }"
   ]
  },
  {
   "cell_type": "markdown",
   "metadata": {},
   "source": [
    "Tutorial: https://elasticsearch-py.readthedocs.io/en/master/"
   ]
  },
  {
   "cell_type": "code",
   "execution_count": 14,
   "metadata": {},
   "outputs": [
    {
     "name": "stdout",
     "output_type": "stream",
     "text": [
      "{'_index': 'job_id', '_type': 'text', '_id': '1', '_version': 5, 'found': True, '_source': {'author': 'ryan', 'text': 'this guy is very handsome', 'timestamp': '2018-03-01T21:33:56.466877'}}\n"
     ]
    }
   ],
   "source": [
    "from datetime import datetime\n",
    "from elasticsearch import Elasticsearch\n",
    "\n",
    "es = Elasticsearch()\n",
    "\n",
    "'''\n",
    "put\n",
    "'''\n",
    "\n",
    "doc = {\n",
    "    'author': 'ryan',\n",
    "    'text': 'this guy is very handsome',\n",
    "    'timestamp': datetime.now(),\n",
    "}\n",
    "\n",
    "res_in  = es.index(index=\"job_id\", doc_type='text', id=1, body=doc)\n",
    "\n",
    "'''\n",
    "get\n",
    "'''\n",
    "\n",
    "res_out = es.get(index=\"job_id\", doc_type='text', id=1)\n",
    "\n",
    "print(res_out)\n",
    "\n",
    "\n",
    "# es.indices.refresh(index=\"test-index\")\n",
    "\n",
    "# res = es.search(index=\"test-index\", body={\"query\": {\"match_all\": {}}})\n",
    "\n",
    "# print(\"Got %d Hits:\" % res['hits']['total'])\n",
    "\n",
    "# for hit in res['hits']['hits']:\n",
    "#     print(\"%(timestamp)s %(author)s: %(text)s\" % hit[\"_source\"])"
   ]
  },
  {
   "cell_type": "code",
   "execution_count": null,
   "metadata": {},
   "outputs": [],
   "source": []
  }
 ],
 "metadata": {
  "kernelspec": {
   "display_name": "Python 3",
   "language": "python",
   "name": "python3"
  },
  "language_info": {
   "codemirror_mode": {
    "name": "ipython",
    "version": 3
   },
   "file_extension": ".py",
   "mimetype": "text/x-python",
   "name": "python",
   "nbconvert_exporter": "python",
   "pygments_lexer": "ipython3",
   "version": "3.6.4"
  }
 },
 "nbformat": 4,
 "nbformat_minor": 2
}
